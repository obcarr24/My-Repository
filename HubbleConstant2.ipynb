{
  "nbformat": 4,
  "nbformat_minor": 0,
  "metadata": {
    "colab": {
      "provenance": [],
      "authorship_tag": "ABX9TyO7acnr6b11/7S2vCgWMC+p",
      "include_colab_link": true
    },
    "kernelspec": {
      "name": "python3",
      "display_name": "Python 3"
    },
    "language_info": {
      "name": "python"
    }
  },
  "cells": [
    {
      "cell_type": "markdown",
      "metadata": {
        "id": "view-in-github",
        "colab_type": "text"
      },
      "source": [
        "<a href=\"https://colab.research.google.com/github/obcarr24/My-Repository/blob/main/HubbleConstant2.ipynb\" target=\"_parent\"><img src=\"https://colab.research.google.com/assets/colab-badge.svg\" alt=\"Open In Colab\"/></a>"
      ]
    },
    {
      "cell_type": "code",
      "source": [
        "# So, given the data from file \"Tonry et al.2003.\" we are going to calculate the hubble constant, and from that\n",
        "# calculate the age of the universe."
      ],
      "metadata": {
        "id": "Q_VxzU81Zphz"
      },
      "execution_count": 2,
      "outputs": []
    },
    {
      "cell_type": "code",
      "execution_count": 3,
      "metadata": {
        "id": "ref5gKzgZboT"
      },
      "outputs": [],
      "source": [
        "# First I'm going to import all the libraries I need to run this code.\n",
        "\n",
        "import numpy as np\n",
        "import matplotlib.pyplot as plt\n",
        "import astropy.io.ascii\n",
        "import astropy.units as u\n",
        "import astropy.constants as ac"
      ]
    },
    {
      "cell_type": "code",
      "source": [
        "# Then I'm going to import the file with the data I need.\n",
        "\n",
        "from google.colab import files\n",
        "uploaded = files.upload()"
      ],
      "metadata": {
        "colab": {
          "base_uri": "https://localhost:8080/",
          "height": 72
        },
        "id": "nOM3epfyaER_",
        "outputId": "05c0dda6-1aa3-4e6c-fab9-808a32575cb6"
      },
      "execution_count": 4,
      "outputs": [
        {
          "output_type": "display_data",
          "data": {
            "text/plain": [
              "<IPython.core.display.HTML object>"
            ],
            "text/html": [
              "\n",
              "     <input type=\"file\" id=\"files-a5e88116-754b-47e9-897c-89ccdcb37339\" name=\"files[]\" multiple disabled\n",
              "        style=\"border:none\" />\n",
              "     <output id=\"result-a5e88116-754b-47e9-897c-89ccdcb37339\">\n",
              "      Upload widget is only available when the cell has been executed in the\n",
              "      current browser session. Please rerun this cell to enable.\n",
              "      </output>\n",
              "      <script>// Copyright 2017 Google LLC\n",
              "//\n",
              "// Licensed under the Apache License, Version 2.0 (the \"License\");\n",
              "// you may not use this file except in compliance with the License.\n",
              "// You may obtain a copy of the License at\n",
              "//\n",
              "//      http://www.apache.org/licenses/LICENSE-2.0\n",
              "//\n",
              "// Unless required by applicable law or agreed to in writing, software\n",
              "// distributed under the License is distributed on an \"AS IS\" BASIS,\n",
              "// WITHOUT WARRANTIES OR CONDITIONS OF ANY KIND, either express or implied.\n",
              "// See the License for the specific language governing permissions and\n",
              "// limitations under the License.\n",
              "\n",
              "/**\n",
              " * @fileoverview Helpers for google.colab Python module.\n",
              " */\n",
              "(function(scope) {\n",
              "function span(text, styleAttributes = {}) {\n",
              "  const element = document.createElement('span');\n",
              "  element.textContent = text;\n",
              "  for (const key of Object.keys(styleAttributes)) {\n",
              "    element.style[key] = styleAttributes[key];\n",
              "  }\n",
              "  return element;\n",
              "}\n",
              "\n",
              "// Max number of bytes which will be uploaded at a time.\n",
              "const MAX_PAYLOAD_SIZE = 100 * 1024;\n",
              "\n",
              "function _uploadFiles(inputId, outputId) {\n",
              "  const steps = uploadFilesStep(inputId, outputId);\n",
              "  const outputElement = document.getElementById(outputId);\n",
              "  // Cache steps on the outputElement to make it available for the next call\n",
              "  // to uploadFilesContinue from Python.\n",
              "  outputElement.steps = steps;\n",
              "\n",
              "  return _uploadFilesContinue(outputId);\n",
              "}\n",
              "\n",
              "// This is roughly an async generator (not supported in the browser yet),\n",
              "// where there are multiple asynchronous steps and the Python side is going\n",
              "// to poll for completion of each step.\n",
              "// This uses a Promise to block the python side on completion of each step,\n",
              "// then passes the result of the previous step as the input to the next step.\n",
              "function _uploadFilesContinue(outputId) {\n",
              "  const outputElement = document.getElementById(outputId);\n",
              "  const steps = outputElement.steps;\n",
              "\n",
              "  const next = steps.next(outputElement.lastPromiseValue);\n",
              "  return Promise.resolve(next.value.promise).then((value) => {\n",
              "    // Cache the last promise value to make it available to the next\n",
              "    // step of the generator.\n",
              "    outputElement.lastPromiseValue = value;\n",
              "    return next.value.response;\n",
              "  });\n",
              "}\n",
              "\n",
              "/**\n",
              " * Generator function which is called between each async step of the upload\n",
              " * process.\n",
              " * @param {string} inputId Element ID of the input file picker element.\n",
              " * @param {string} outputId Element ID of the output display.\n",
              " * @return {!Iterable<!Object>} Iterable of next steps.\n",
              " */\n",
              "function* uploadFilesStep(inputId, outputId) {\n",
              "  const inputElement = document.getElementById(inputId);\n",
              "  inputElement.disabled = false;\n",
              "\n",
              "  const outputElement = document.getElementById(outputId);\n",
              "  outputElement.innerHTML = '';\n",
              "\n",
              "  const pickedPromise = new Promise((resolve) => {\n",
              "    inputElement.addEventListener('change', (e) => {\n",
              "      resolve(e.target.files);\n",
              "    });\n",
              "  });\n",
              "\n",
              "  const cancel = document.createElement('button');\n",
              "  inputElement.parentElement.appendChild(cancel);\n",
              "  cancel.textContent = 'Cancel upload';\n",
              "  const cancelPromise = new Promise((resolve) => {\n",
              "    cancel.onclick = () => {\n",
              "      resolve(null);\n",
              "    };\n",
              "  });\n",
              "\n",
              "  // Wait for the user to pick the files.\n",
              "  const files = yield {\n",
              "    promise: Promise.race([pickedPromise, cancelPromise]),\n",
              "    response: {\n",
              "      action: 'starting',\n",
              "    }\n",
              "  };\n",
              "\n",
              "  cancel.remove();\n",
              "\n",
              "  // Disable the input element since further picks are not allowed.\n",
              "  inputElement.disabled = true;\n",
              "\n",
              "  if (!files) {\n",
              "    return {\n",
              "      response: {\n",
              "        action: 'complete',\n",
              "      }\n",
              "    };\n",
              "  }\n",
              "\n",
              "  for (const file of files) {\n",
              "    const li = document.createElement('li');\n",
              "    li.append(span(file.name, {fontWeight: 'bold'}));\n",
              "    li.append(span(\n",
              "        `(${file.type || 'n/a'}) - ${file.size} bytes, ` +\n",
              "        `last modified: ${\n",
              "            file.lastModifiedDate ? file.lastModifiedDate.toLocaleDateString() :\n",
              "                                    'n/a'} - `));\n",
              "    const percent = span('0% done');\n",
              "    li.appendChild(percent);\n",
              "\n",
              "    outputElement.appendChild(li);\n",
              "\n",
              "    const fileDataPromise = new Promise((resolve) => {\n",
              "      const reader = new FileReader();\n",
              "      reader.onload = (e) => {\n",
              "        resolve(e.target.result);\n",
              "      };\n",
              "      reader.readAsArrayBuffer(file);\n",
              "    });\n",
              "    // Wait for the data to be ready.\n",
              "    let fileData = yield {\n",
              "      promise: fileDataPromise,\n",
              "      response: {\n",
              "        action: 'continue',\n",
              "      }\n",
              "    };\n",
              "\n",
              "    // Use a chunked sending to avoid message size limits. See b/62115660.\n",
              "    let position = 0;\n",
              "    do {\n",
              "      const length = Math.min(fileData.byteLength - position, MAX_PAYLOAD_SIZE);\n",
              "      const chunk = new Uint8Array(fileData, position, length);\n",
              "      position += length;\n",
              "\n",
              "      const base64 = btoa(String.fromCharCode.apply(null, chunk));\n",
              "      yield {\n",
              "        response: {\n",
              "          action: 'append',\n",
              "          file: file.name,\n",
              "          data: base64,\n",
              "        },\n",
              "      };\n",
              "\n",
              "      let percentDone = fileData.byteLength === 0 ?\n",
              "          100 :\n",
              "          Math.round((position / fileData.byteLength) * 100);\n",
              "      percent.textContent = `${percentDone}% done`;\n",
              "\n",
              "    } while (position < fileData.byteLength);\n",
              "  }\n",
              "\n",
              "  // All done.\n",
              "  yield {\n",
              "    response: {\n",
              "      action: 'complete',\n",
              "    }\n",
              "  };\n",
              "}\n",
              "\n",
              "scope.google = scope.google || {};\n",
              "scope.google.colab = scope.google.colab || {};\n",
              "scope.google.colab._files = {\n",
              "  _uploadFiles,\n",
              "  _uploadFilesContinue,\n",
              "};\n",
              "})(self);\n",
              "</script> "
            ]
          },
          "metadata": {}
        },
        {
          "output_type": "stream",
          "name": "stdout",
          "text": [
            "Saving Tonry_2003.vot 2.txt to Tonry_2003.vot 2.txt\n"
          ]
        }
      ]
    },
    {
      "cell_type": "code",
      "source": [
        "# Then I'm going to read and print the file cause I want to see what the data table looks like.\n",
        "\n",
        "data = astropy.io.ascii.read(\"Tonry_2003.vot 2.txt\")\n",
        "print(data)"
      ],
      "metadata": {
        "colab": {
          "base_uri": "https://localhost:8080/"
        },
        "id": "hYwxfrQ1bj4s",
        "outputId": "c5033477-50f6-4565-f5fe-cfb35cd19889"
      },
      "execution_count": 6,
      "outputs": [
        {
          "output_type": "stream",
          "name": "stdout",
          "text": [
            "  col1     col2    col3   col4    col5    col6  col7  col8  col9  col10    col11  \n",
            "-------- ------- ------- ------ -------- ----- ----- ----- ----- -------- --------\n",
            " SN1972E  314.84   30.08 0.0023    N5253    16 2.839 2.399 0.033 204.9697 -31.6692\n",
            " SN1980N 240.161 -56.689 0.0056    N1316     9 3.225  3.14 0.043  50.6753 -37.2074\n",
            " SN1981B  292.97  64.743 0.0072    N4536     2 3.334 3.077 0.041 188.6233   2.1995\n",
            " SN1981D 240.161 -56.689 0.0056    N1316     9 3.225 3.044 0.055  50.6753 -37.2074\n",
            " SN1986G 309.543  19.401 0.0027    N5128    26 2.908  2.44 0.035 201.4028 -43.0316\n",
            " SN1988U   8.737 -81.227   0.31     Anon    24 4.968 5.096 0.072   3.5756 -30.4164\n",
            " SN1989B 241.991  64.403 0.0036    N3627    37 3.033 2.844  0.03 170.0578  12.9718\n",
            " SN1990N 294.369  75.987 0.0044    N4639    21  3.12 3.204 0.035 190.7367  13.2566\n",
            " SN1990O  37.654   28.36 0.0307 M+034403    10 3.964 3.977 0.025 258.8999  16.3241\n",
            " SN1990T 341.503 -31.526   0.04   P63925    10 4.079 4.101 0.042 299.7601 -56.2583\n",
            "     ...     ...     ...    ...      ...   ...   ...   ...   ...      ...      ...\n",
            "SN2000cx 136.506 -52.482  0.007    N0524 11:19 3.322  3.32 0.023  21.1926    9.509\n",
            "SN2000dk 126.834 -30.344 0.0164    N0382    11 3.692 3.677 0.023  16.8483  32.4068\n",
            "SN2000dz  84.367  -56.39    0.5     Anon    13 5.176 5.352 0.053 352.6728   0.3119\n",
            "SN2000ea 167.211 -61.402   0.42     Anon    13   5.1 5.091 0.053  32.4751  -5.4719\n",
            "SN2000ec 166.295 -60.176   0.47     Anon    13 5.149  5.34 0.043  32.8836  -4.2321\n",
            "SN2000ee 166.045 -53.429   0.47     Anon    13 5.149 5.343 0.041  36.8945   1.1971\n",
            "SN2000eg 167.097 -53.108   0.54     Anon    13 5.209 5.236 0.049  37.5883   1.0639\n",
            "SN2000eh 188.297 -31.651   0.49     Anon    13 5.167 5.224 0.042  63.7604   4.3888\n",
            "SN2000fa 194.167  15.479 0.0218   U03770    11 3.815 3.837 0.026 108.8752  23.4287\n",
            " SN2001V 218.929  77.733 0.0162    N3987    22 3.686 3.662 0.023 179.3542  25.2024\n",
            "Length = 230 rows\n"
          ]
        },
        {
          "output_type": "stream",
          "name": "stderr",
          "text": [
            "/usr/local/lib/python3.10/dist-packages/astropy/io/ascii/html.py:91: XMLParsedAsHTMLWarning: It looks like you're parsing an XML document using an HTML parser. If this really is an HTML document (maybe it's XHTML?), you can ignore or filter this warning. If it's XML, you should know that using an XML parser will be more reliable. To parse this document as XML, make sure you have the lxml package installed, and pass the keyword argument `features=\"xml\"` into the BeautifulSoup constructor.\n",
            "  soup = BeautifulSoup(\"\\n\".join(lines))\n"
          ]
        }
      ]
    },
    {
      "cell_type": "code",
      "source": [
        "# In the actual report, it shows that the velocity and the distance have undergone mathematical operations that IF i\n",
        "# don't reverse, will give me the wrong answer and plot that I am looking for. Once I revese them I will plot it.\n",
        "\n",
        "# Reversing the mathematical operations:\n",
        "\n",
        "distance = ((10**data[\"col8\"])/ (72.0)) * u.mpc\n",
        "\n",
        "redshift = 10**data[\"col7\"] * u.km / u.s\n",
        "\n",
        "# Plotting it:\n",
        "\n",
        "plt.plot((distance.to(u.mpc).value), redshift.to(u.km/u.s).value, marker = \".\", color = \"black\", linestyle = \"none\")\n",
        "plt.xscale(\"log\")\n",
        "plt.yscale(\"log\")\n",
        "plt.xlabel(\"Distance(mpc)\")\n",
        "plt.ylabel(\"Velocity(km/s)\")\n",
        "plt.title(\"Hubble Data Points (Distance vs. Time)\")"
      ],
      "metadata": {
        "colab": {
          "base_uri": "https://localhost:8080/",
          "height": 494
        },
        "id": "5oFYtg9YeyM5",
        "outputId": "c1cce712-8d40-409a-f904-91183428d899"
      },
      "execution_count": 7,
      "outputs": [
        {
          "output_type": "execute_result",
          "data": {
            "text/plain": [
              "Text(0.5, 1.0, 'Hubble Data Points (Distance vs. Time)')"
            ]
          },
          "metadata": {},
          "execution_count": 7
        },
        {
          "output_type": "display_data",
          "data": {
            "text/plain": [
              "<Figure size 640x480 with 1 Axes>"
            ],
            "image/png": "[encoded data removed]"
          },
          "metadata": {}
        }
      ]
    },
    {
      "cell_type": "code",
      "source": [
        "# After plotting the data, we are going to fit it using a linear equation and overplot the model on top of the data.\n",
        "\n",
        "x = distance.to(u.mpc).value # Setting the distance on the x-axis to mpc units.\n",
        "ind = np.where((x > 0) & (x < 700)) # Ranging from 0 to 700 mpc.\n",
        "z = np.polyfit(distance.to(u.mpc).value[ind], redshift.to(u.km / u.s).value[ind], 1) # creating the polynomial that\n",
        "# best fits the data, where distance is the x, velocity is the y, and 1 represents the fit being linear."
      ],
      "metadata": {
        "id": "YgfNtEsf8Rh8"
      },
      "execution_count": 9,
      "outputs": []
    },
    {
      "cell_type": "code",
      "source": [
        "p = np.poly1d(z) # creates a polynomial function p from the coefficients z,\n",
        "# allowing me to evaluate the fitted polynomial at any given input.\n",
        "\n",
        "velocity = p(distance.to(u.mpc).value) # This calculates the velocity values by applying p, the poly function to the distance\n",
        "# values."
      ],
      "metadata": {
        "id": "rJ7Q3IcJ-KyF"
      },
      "execution_count": 10,
      "outputs": []
    },
    {
      "cell_type": "code",
      "source": [
        "# Now we replot:\n",
        "\n",
        "plt.plot((distance.to(u.mpc).value), redshift.to(u.km/u.s).value, marker = \".\", color = \"black\", linestyle = \"none\")\n",
        "plt.plot(distance.to(u.mpc).value, velocity, color=\"grey\", linewidth=5) # this is our linear line plotted on the OG data that best fits\n",
        "plt.xlim(0, 700) # limits for the line\n",
        "plt.ylim(0, 4e4) # limits for the line.\n",
        "plt.xlabel(\"Distance [Mpc]\")\n",
        "plt.ylabel(\"Velocity [km/s]\")\n",
        "plt.annotate(r\"H = {0:5.2f} km/s/Mpc\".format(z[0]), xy=(50, 30000)) # Puts the calculate hubble constant on the graph."
      ],
      "metadata": {
        "colab": {
          "base_uri": "https://localhost:8080/",
          "height": 473
        },
        "id": "zrWOz7IbFUuW",
        "outputId": "3f75865c-4e6b-4f27-c9bd-e21e0d839573"
      },
      "execution_count": 19,
      "outputs": [
        {
          "output_type": "execute_result",
          "data": {
            "text/plain": [
              "Text(50, 30000, 'H = 67.48 km/s/Mpc')"
            ]
          },
          "metadata": {},
          "execution_count": 19
        },
        {
          "output_type": "display_data",
          "data": {
            "text/plain": [
              "<Figure size 640x480 with 1 Axes>"
            ],
            "image/png": "[encoded data removed]"
          },
          "metadata": {}
        }
      ]
    },
    {
      "cell_type": "code",
      "source": [
        "# If the Hubble Constant is 67.48 km/s/Mpc, we can calculate the age of the universe given our measured hubble constrant.\n",
        "\n",
        "H = 67.48 * u.km / u.s / u.Mpc\n",
        "age = 1 / H\n",
        "age = age.to(u.yr)\n",
        "print(age)"
      ],
      "metadata": {
        "colab": {
          "base_uri": "https://localhost:8080/"
        },
        "id": "2-rZoYAAGNlh",
        "outputId": "5274dcf2-fe28-4556-fd3c-a2778292de32"
      },
      "execution_count": 21,
      "outputs": [
        {
          "output_type": "stream",
          "name": "stdout",
          "text": [
            "14490104055.731909 yr\n"
          ]
        }
      ]
    }
  ]
}