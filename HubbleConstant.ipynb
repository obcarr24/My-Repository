{
  "nbformat": 4,
  "nbformat_minor": 0,
  "metadata": {
    "colab": {
      "provenance": [],
      "authorship_tag": "ABX9TyPb8nShvEU/54Vkh+gHz4p0",
      "include_colab_link": true
    },
    "kernelspec": {
      "name": "python3",
      "display_name": "Python 3"
    },
    "language_info": {
      "name": "python"
    }
  },
  "cells": [
    {
      "cell_type": "markdown",
      "metadata": {
        "id": "view-in-github",
        "colab_type": "text"
      },
      "source": [
        "<a href=\"https://colab.research.google.com/github/obcarr24/My-Repository/blob/main/HubbleConstant.ipynb\" target=\"_parent\"><img src=\"https://colab.research.google.com/assets/colab-badge.svg\" alt=\"Open In Colab\"/></a>"
      ]
    },
    {
      "cell_type": "code",
      "execution_count": 1,
      "metadata": {
        "id": "s1GbeuCqDBRO"
      },
      "outputs": [],
      "source": [
        "# Question: Assume Hubble constant is 70 km/s/Mpc, what the age of the Universe? Please upload your commented code\n",
        "# to GitHub and submit a Github link.\n",
        "\n",
        "# Given the constant, we can approximate the age of the universe given the equation t = 1 / H.\n",
        "\n",
        "# We also need to convert the our answer into years once calculated."
      ]
    },
    {
      "cell_type": "code",
      "source": [
        "import numpy as np\n",
        "import astropy.units as u\n",
        "import astropy.constants as ac"
      ],
      "metadata": {
        "id": "NsPGJoxlLWHG"
      },
      "execution_count": 3,
      "outputs": []
    },
    {
      "cell_type": "code",
      "source": [
        "# Lets import our Hubble constant:\n",
        "\n",
        "Hubble_constant = 70 * u.km / u.s / u.Mpc\n",
        "print(Hubble_constant)\n",
        "\n",
        "# Then lets convert it from ((km/s)/Mpc) to (s^-1) units:\n",
        "\n",
        "Hubble_constant = Hubble_constant.to(u.s**-1)\n",
        "print(Hubble_constant)"
      ],
      "metadata": {
        "colab": {
          "base_uri": "https://localhost:8080/"
        },
        "id": "GcN6QLZGLl6L",
        "outputId": "703c2796-9fe3-4d35-f1a7-9398bd0954e4"
      },
      "execution_count": 12,
      "outputs": [
        {
          "output_type": "stream",
          "name": "stdout",
          "text": [
            "70.0 km / (Mpc s)\n",
            "2.2685455026110553e-18 1 / s\n"
          ]
        }
      ]
    },
    {
      "cell_type": "code",
      "source": [
        "# Conduct the mathematical operation:\n",
        "\n",
        "t = 1 / Hubble_constant\n",
        "print(t)"
      ],
      "metadata": {
        "colab": {
          "base_uri": "https://localhost:8080/"
        },
        "id": "ZTZ7aL3lL9GN",
        "outputId": "8ebc41d7-169f-481b-fb7e-360d008ba673"
      },
      "execution_count": 13,
      "outputs": [
        {
          "output_type": "stream",
          "name": "stdout",
          "text": [
            "4.408110830701954e+17 s\n"
          ]
        }
      ]
    },
    {
      "cell_type": "code",
      "source": [
        "# Lets convert seconds the time, t, that we just calculated into years:\n",
        "\n",
        "t = t.to(u.yr)\n",
        "print(t)"
      ],
      "metadata": {
        "colab": {
          "base_uri": "https://localhost:8080/"
        },
        "id": "2I9WVeFXMGuP",
        "outputId": "f754186c-068f-4564-8e3f-9170fdfe474b"
      },
      "execution_count": 14,
      "outputs": [
        {
          "output_type": "stream",
          "name": "stdout",
          "text": [
            "13968460309.725561 yr\n"
          ]
        }
      ]
    },
    {
      "cell_type": "code",
      "source": [
        "# Google said that the universe is around 13.7 - 13.8 billion years old, which, when compared to our answer:\n",
        "\n",
        "# Percent Error:\n",
        "\n",
        "percent_error = (((13.8*(u.Gyr)) - (t))/(13.8*(u.Gyr))) * 100\n",
        "print(percent_error)"
      ],
      "metadata": {
        "colab": {
          "base_uri": "https://localhost:8080/"
        },
        "id": "iOFvP89qOYC0",
        "outputId": "a7506db9-aeb6-45c1-c284-4b64124c681d"
      },
      "execution_count": 20,
      "outputs": [
        {
          "output_type": "stream",
          "name": "stdout",
          "text": [
            "-1.2207268820692907\n"
          ]
        }
      ]
    },
    {
      "cell_type": "code",
      "source": [
        "# This shows that our answer and google's answer are off by about 1.2 %."
      ],
      "metadata": {
        "id": "u1TX579EQWph"
      },
      "execution_count": 21,
      "outputs": []
    }
  ]
}