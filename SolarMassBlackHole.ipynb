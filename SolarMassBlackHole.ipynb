{
  "nbformat": 4,
  "nbformat_minor": 0,
  "metadata": {
    "colab": {
      "provenance": [],
      "authorship_tag": "ABX9TyOw2V5M53I6sKeclJRRC4Yg",
      "include_colab_link": true
    },
    "kernelspec": {
      "name": "python3",
      "display_name": "Python 3"
    },
    "language_info": {
      "name": "python"
    }
  },
  "cells": [
    {
      "cell_type": "markdown",
      "metadata": {
        "id": "view-in-github",
        "colab_type": "text"
      },
      "source": [
        "<a href=\"https://colab.research.google.com/github/obcarr24/My-Repository/blob/main/SolarMassBlackHole.ipynb\" target=\"_parent\"><img src=\"https://colab.research.google.com/assets/colab-badge.svg\" alt=\"Open In Colab\"/></a>"
      ]
    },
    {
      "cell_type": "code",
      "source": [
        "import astropy.constants as const # import python package to call the valuer of certain constants.\n",
        "import astropy.units as u # import a Python package to call certain units, e.g., the mass of the Sun."
      ],
      "metadata": {
        "id": "OEAktHVHJpbm"
      },
      "execution_count": null,
      "outputs": []
    },
    {
      "cell_type": "code",
      "execution_count": null,
      "metadata": {
        "colab": {
          "base_uri": "https://localhost:8080/"
        },
        "id": "vXqXHxwdJA8p",
        "outputId": "a9ba5f49-ffa3-4c84-849f-1ef1570d24ce"
      },
      "outputs": [
        {
          "output_type": "stream",
          "name": "stdout",
          "text": [
            "1.988409870698051e+30 kg\n",
            "  Name   = Gravitational constant\n",
            "  Value  = 6.6743e-11\n",
            "  Uncertainty  = 1.5e-15\n",
            "  Unit  = m3 / (kg s2)\n",
            "  Reference = CODATA 2018\n",
            "299792458.0 m / s\n"
          ]
        }
      ],
      "source": [
        "M = 1 * u.solMass # Defines the solar mass.\n",
        "print(M.to(u.kg)) # Changes the units to kilograms.\n",
        "\n",
        "G = const.G # Defines G as the gravitational constant.\n",
        "print((G.si)) # Prints out G as an SI unit.\n",
        "\n",
        "c = const.c\n",
        "print(c.to(u.m/u.s))"
      ]
    },
    {
      "cell_type": "code",
      "source": [
        "import numpy as np # imports numpy package to conduct mathematical operations with the defined quantitites."
      ],
      "metadata": {
        "id": "lL8ynW19Jviq"
      },
      "execution_count": null,
      "outputs": []
    },
    {
      "cell_type": "code",
      "source": [
        "R = (G*M)/(c**2) # Operations to calculate the Schwarzchild Radius of a solar mass black hole.\n",
        "print(R.to(u.km)) # Prints that radius"
      ],
      "metadata": {
        "colab": {
          "base_uri": "https://localhost:8080/"
        },
        "id": "efuyxk83Jyf0",
        "outputId": "e9e645df-d0b6-437b-e0f1-d5d2599da469"
      },
      "execution_count": null,
      "outputs": [
        {
          "output_type": "stream",
          "name": "stdout",
          "text": [
            "1.476625038050125 km\n"
          ]
        }
      ]
    }
  ]
}