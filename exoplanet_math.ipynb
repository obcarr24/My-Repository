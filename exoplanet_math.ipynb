{
  "nbformat": 4,
  "nbformat_minor": 0,
  "metadata": {
    "colab": {
      "provenance": [],
      "include_colab_link": true
    },
    "kernelspec": {
      "name": "python3",
      "display_name": "Python 3"
    },
    "language_info": {
      "name": "python"
    }
  },
  "cells": [
    {
      "cell_type": "markdown",
      "metadata": {
        "id": "view-in-github",
        "colab_type": "text"
      },
      "source": [
        "<a href=\"https://colab.research.google.com/github/obcarr24/My-Repository/blob/main/exoplanet_math.ipynb\" target=\"_parent\"><img src=\"https://colab.research.google.com/assets/colab-badge.svg\" alt=\"Open In Colab\"/></a>"
      ]
    },
    {
      "cell_type": "code",
      "execution_count": null,
      "metadata": {
        "id": "z5oWxwXq26vv"
      },
      "outputs": [],
      "source": []
    },
    {
      "cell_type": "markdown",
      "source": [
        "Age, structure, life, mass, size, checmical composition -> life\n",
        "mass, size -> structure"
      ],
      "metadata": {
        "id": "g5fK9Ey24aUU"
      }
    },
    {
      "cell_type": "markdown",
      "source": [
        "$\\delta = (\\frac{R_{planet}}{R_{star}})^2$, to solve for $R_{planet}$, $R_{planet} = \\sqrt\\delta \\times R_{star}$"
      ],
      "metadata": {
        "id": "dEH2xcVJ5jDo"
      }
    },
    {
      "cell_type": "code",
      "source": [
        "import astropy.units as u # Imports the units needed to conduct calculations\n",
        "import astropy.constants as c # Imports the constants needed to conduct calculations."
      ],
      "metadata": {
        "id": "W6AEh2Cw4oAt"
      },
      "execution_count": null,
      "outputs": []
    },
    {
      "cell_type": "code",
      "source": [
        "delta_earth_sun = (u.earthRad / u.solRad)**2 # Calculates the ratio of the Earth's radius to the Sun's radius."
      ],
      "metadata": {
        "id": "y-K_98gE53MM"
      },
      "execution_count": null,
      "outputs": []
    },
    {
      "cell_type": "code",
      "source": [
        "print(delta_earth_sun.decompose()) # Calls the decompose() method on the earth-sun radius ratio. The decompose()\n",
        "# command simplifies the quantity into its base SI units."
      ],
      "metadata": {
        "colab": {
          "base_uri": "https://localhost:8080/"
        },
        "id": "DlPPT06r6F06",
        "outputId": "94112433-ee74-479f-eebb-480d74161fc9"
      },
      "execution_count": null,
      "outputs": [
        {
          "output_type": "stream",
          "name": "stdout",
          "text": [
            "8.40502e-05\n"
          ]
        }
      ]
    },
    {
      "cell_type": "code",
      "source": [
        "delta_jupiter_sun = (u.jupiterRad / u.solRad)**2 # Calculates the ratio of the Jupiter's radius to the Sun's radius."
      ],
      "metadata": {
        "id": "tXULaawA6I4i"
      },
      "execution_count": null,
      "outputs": []
    },
    {
      "cell_type": "code",
      "source": [
        "print(delta_jupiter_sun.decompose()) # Calls the decompose() method on the jupiter-sun radius ratio. The decompose()\n",
        "# command simplifies the quantity into its base SI units."
      ],
      "metadata": {
        "colab": {
          "base_uri": "https://localhost:8080/"
        },
        "id": "QG-Y91js6XyW",
        "outputId": "981cc1e4-08e8-4919-a233-ab7e94b299a9"
      },
      "execution_count": null,
      "outputs": [
        {
          "output_type": "stream",
          "name": "stdout",
          "text": [
            "0.0105602\n"
          ]
        }
      ]
    },
    {
      "cell_type": "markdown",
      "source": [
        "$v_{orb} = \\sqrt\\frac{GM}{a}$"
      ],
      "metadata": {
        "id": "LxTrCHmK7tmc"
      }
    },
    {
      "cell_type": "code",
      "source": [
        "import numpy as np # imports the numpy library for computation in python.\n",
        "v_orb_earth = np.sqrt(c.G * u.solMass / u.AU) # Calculates the orbital velocity of the earth given the mass of the sun,\n",
        "# the constant G, and one astronomical unit.\n",
        "print(v_orb_earth.to(u.m / u.s)) # prints the answer."
      ],
      "metadata": {
        "colab": {
          "base_uri": "https://localhost:8080/"
        },
        "id": "iL_ZaojQ6ZND",
        "outputId": "d1122b26-d61e-4bb3-8d20-f79d11432715"
      },
      "execution_count": null,
      "outputs": [
        {
          "output_type": "stream",
          "name": "stdout",
          "text": [
            "29784.691829676933 m / s\n"
          ]
        }
      ]
    },
    {
      "cell_type": "markdown",
      "source": [
        "Since $m_p\\cdot v_p = m_s\\cdot v_s$, $v_s = \\frac{m_p}{m_s} \\times v_p$"
      ],
      "metadata": {
        "id": "_ZM5SUwU9KZ3"
      }
    },
    {
      "cell_type": "code",
      "source": [
        "v_sun = u.earthMass / u.solMass * v_orb_earth # Calculates the velocity of the sun induced by earth orbital velocity.\n",
        "# Also uses the mass of the sun and the earth.\n",
        "print(v_sun.to(u.m / u.s)) # prints the answer."
      ],
      "metadata": {
        "colab": {
          "base_uri": "https://localhost:8080/"
        },
        "id": "Ly1pjm--83PV",
        "outputId": "1c74420d-f9f6-418e-d925-23d99b54d36b"
      },
      "execution_count": null,
      "outputs": [
        {
          "output_type": "stream",
          "name": "stdout",
          "text": [
            "0.08945800466923791 m / s\n"
          ]
        }
      ]
    },
    {
      "cell_type": "markdown",
      "source": [
        "$v_s = 0.09\\ m/s (\\frac{m_p}{m_\\oplus})(\\frac{P}{1 yr})^{-1/3}$"
      ],
      "metadata": {
        "id": "ybEhAqZ5BfAh"
      }
    },
    {
      "cell_type": "code",
      "source": [
        "v_s_jupiter = 0.09 * u.m / u.s * (u.jupiterMass / u.earthMass) * (11.9 * u.yr / u.yr)**(-1.0/3.0) # Calculates the sun's\n",
        "# radial velocity wobble due to Jupiter's gravitational influence. This calculation also takes into account Jupiter's mass\n",
        "# and its orbital period compared to Earth's.\n",
        "\n",
        "print(v_s_jupiter.to(u.m / u.s)) # print statement."
      ],
      "metadata": {
        "colab": {
          "base_uri": "https://localhost:8080/"
        },
        "id": "LytcZnHP9htQ",
        "outputId": "2f213bdc-b1a2-4ad3-a24a-a7fdc824c599"
      },
      "execution_count": null,
      "outputs": [
        {
          "output_type": "stream",
          "name": "stdout",
          "text": [
            "12.529091077198903 m / s\n"
          ]
        }
      ]
    },
    {
      "cell_type": "code",
      "source": [
        "(u.jupiterMass / u.earthMass).decompose() # Calculates the ratio of masses between juputer and the earth."
      ],
      "metadata": {
        "colab": {
          "base_uri": "https://localhost:8080/",
          "height": 37
        },
        "id": "mPOqAp8QCVb7",
        "outputId": "3b609f05-386a-456d-b49a-05771db8d77b"
      },
      "execution_count": null,
      "outputs": [
        {
          "output_type": "execute_result",
          "data": {
            "text/plain": [
              "Unit(dimensionless with a scale of 317.8284065946748)"
            ],
            "text/latex": "$\\mathrm{317.82841}$"
          },
          "metadata": {},
          "execution_count": 14
        }
      ]
    },
    {
      "cell_type": "code",
      "source": [
        "rho_earth = u.earthMass / (4 * np.pi * u.earthRad**3 / 3.0) # Calculates the average density of the earth.\n",
        "print(rho_earth.to(u.g / u.cm**3)) # prit statement."
      ],
      "metadata": {
        "colab": {
          "base_uri": "https://localhost:8080/"
        },
        "id": "rTQFRr-OCi_Z",
        "outputId": "7043d5c6-dc18-4549-b26c-411b74574f04"
      },
      "execution_count": null,
      "outputs": [
        {
          "output_type": "stream",
          "name": "stdout",
          "text": [
            "5.495021865555213 g / cm3\n"
          ]
        }
      ]
    },
    {
      "cell_type": "code",
      "source": [],
      "metadata": {
        "id": "fm98eu9ODH6k"
      },
      "execution_count": null,
      "outputs": []
    }
  ]
}